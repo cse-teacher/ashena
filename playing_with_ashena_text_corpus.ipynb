{
  "nbformat": 4,
  "nbformat_minor": 0,
  "metadata": {
    "colab": {
      "provenance": [],
      "include_colab_link": true
    },
    "kernelspec": {
      "name": "python3",
      "display_name": "Python 3"
    },
    "language_info": {
      "name": "python"
    }
  },
  "cells": [
    {
      "cell_type": "markdown",
      "metadata": {
        "id": "view-in-github",
        "colab_type": "text"
      },
      "source": [
        "<a href=\"https://colab.research.google.com/github/cse-teacher/ashena/blob/main/playing_with_ashena_text_corpus.ipynb\" target=\"_parent\"><img src=\"https://colab.research.google.com/assets/colab-badge.svg\" alt=\"Open In Colab\"/></a>"
      ]
    },
    {
      "cell_type": "markdown",
      "source": [
        "## Downloading the corpus package"
      ],
      "metadata": {
        "id": "eVTkj90e_Xhf"
      }
    },
    {
      "cell_type": "code",
      "execution_count": 1,
      "metadata": {
        "colab": {
          "base_uri": "https://localhost:8080/"
        },
        "id": "Y-C7cOR7Yz_M",
        "outputId": "5ef09fe3-aa69-4f1c-d890-12fc0aad5841"
      },
      "outputs": [
        {
          "output_type": "stream",
          "name": "stdout",
          "text": [
            "/usr/local/lib/python3.10/dist-packages/gdown/__main__.py:140: FutureWarning: Option `--id` was deprecated in version 4.3.1 and will be removed in 5.0. You don't need to pass it anymore to use a file ID.\n",
            "  warnings.warn(\n",
            "Downloading...\n",
            "From: https://drive.google.com/uc?id=1DiWdCqAlYktBo7vsUw2keaIqY5IShOeU\n",
            "To: /content/ashena-1.1.0.zip\n",
            "100% 22.7M/22.7M [00:00<00:00, 95.7MB/s]\n"
          ]
        }
      ],
      "source": [
        "!gdown --id \"1DiWdCqAlYktBo7vsUw2keaIqY5IShOeU\""
      ]
    },
    {
      "cell_type": "code",
      "source": [
        "!unzip ashena-1.1.0.zip"
      ],
      "metadata": {
        "colab": {
          "base_uri": "https://localhost:8080/"
        },
        "id": "HaFjZfEnY2CP",
        "outputId": "76a06e43-b270-45f1-ee2c-c772f538eecd"
      },
      "execution_count": null,
      "outputs": [
        {
          "output_type": "stream",
          "name": "stdout",
          "text": [
            "Archive:  ashena-1.1.0.zip\n",
            "   creating: ashena/\n",
            "  inflating: ashena/utils.py         \n",
            "  inflating: ashena/__init__.py      \n",
            "  inflating: ashena/corpus.py        \n",
            "   creating: ashena/__pycache__/\n",
            "  inflating: ashena/__pycache__/__init__.cpython-38.pyc  \n",
            "  inflating: ashena/__pycache__/utils.cpython-38.pyc  \n",
            "  inflating: ashena/__pycache__/corpus.cpython-38.pyc  \n",
            "   creating: ashena/data/\n",
            "  inflating: ashena/data/ashena-1.0.0-normalized.zip  \n"
          ]
        }
      ]
    },
    {
      "cell_type": "code",
      "source": [
        "from ashena.corpus import corpus\n",
        "main_df = corpus()"
      ],
      "metadata": {
        "id": "HkzBeVTbY8Wu"
      },
      "execution_count": null,
      "outputs": []
    },
    {
      "cell_type": "code",
      "source": [
        "main_df"
      ],
      "metadata": {
        "id": "6ukyo0OVY_ki",
        "outputId": "889768a5-1158-4386-f247-919735b622d2",
        "colab": {
          "base_uri": "https://localhost:8080/",
          "height": 424
        }
      },
      "execution_count": null,
      "outputs": [
        {
          "output_type": "execute_result",
          "data": {
            "text/html": [
              "<div>\n",
              "<style scoped>\n",
              "    .dataframe tbody tr th:only-of-type {\n",
              "        vertical-align: middle;\n",
              "    }\n",
              "\n",
              "    .dataframe tbody tr th {\n",
              "        vertical-align: top;\n",
              "    }\n",
              "\n",
              "    .dataframe thead th {\n",
              "        text-align: right;\n",
              "    }\n",
              "</style>\n",
              "<table border=\"1\" class=\"dataframe\">\n",
              "  <thead>\n",
              "    <tr style=\"text-align: right;\">\n",
              "      <th></th>\n",
              "      <th>page</th>\n",
              "      <th>lang</th>\n",
              "      <th>accent</th>\n",
              "      <th>state</th>\n",
              "      <th>city_type</th>\n",
              "      <th>grade</th>\n",
              "      <th>text</th>\n",
              "    </tr>\n",
              "  </thead>\n",
              "  <tbody>\n",
              "    <tr>\n",
              "      <th>0</th>\n",
              "      <td>95</td>\n",
              "      <td>6</td>\n",
              "      <td>-</td>\n",
              "      <td>12</td>\n",
              "      <td>1</td>\n",
              "      <td>1</td>\n",
              "      <td>مادر می‌بره مدرسه</td>\n",
              "    </tr>\n",
              "    <tr>\n",
              "      <th>1</th>\n",
              "      <td>59</td>\n",
              "      <td>13</td>\n",
              "      <td>-</td>\n",
              "      <td>20</td>\n",
              "      <td>1</td>\n",
              "      <td>1</td>\n",
              "      <td>امین - مسجد - کفش - دمپایی -</td>\n",
              "    </tr>\n",
              "    <tr>\n",
              "      <th>2</th>\n",
              "      <td>69</td>\n",
              "      <td>13</td>\n",
              "      <td>-</td>\n",
              "      <td>4</td>\n",
              "      <td>3</td>\n",
              "      <td>1</td>\n",
              "      <td>یه ماشین داره می‌ره یه کلاغ روش آب داره می‌ره ...</td>\n",
              "    </tr>\n",
              "    <tr>\n",
              "      <th>3</th>\n",
              "      <td>25</td>\n",
              "      <td>13</td>\n",
              "      <td>-</td>\n",
              "      <td>4</td>\n",
              "      <td>2</td>\n",
              "      <td>1</td>\n",
              "      <td>اومده بخورش قایم کرده سنگ درخت</td>\n",
              "    </tr>\n",
              "    <tr>\n",
              "      <th>4</th>\n",
              "      <td>21</td>\n",
              "      <td>13</td>\n",
              "      <td>-</td>\n",
              "      <td>4</td>\n",
              "      <td>2</td>\n",
              "      <td>1</td>\n",
              "      <td>دندان می‌خواد درست کنه اینجا درست کرده آب گوشت...</td>\n",
              "    </tr>\n",
              "    <tr>\n",
              "      <th>...</th>\n",
              "      <td>...</td>\n",
              "      <td>...</td>\n",
              "      <td>...</td>\n",
              "      <td>...</td>\n",
              "      <td>...</td>\n",
              "      <td>...</td>\n",
              "      <td>...</td>\n",
              "    </tr>\n",
              "    <tr>\n",
              "      <th>611149</th>\n",
              "      <td>37</td>\n",
              "      <td>13</td>\n",
              "      <td>-</td>\n",
              "      <td>8</td>\n",
              "      <td>3</td>\n",
              "      <td>1</td>\n",
              "      <td>اینجا یه درخت می‌بینم کفش دوز توشه کفش دوز دری...</td>\n",
              "    </tr>\n",
              "    <tr>\n",
              "      <th>611150</th>\n",
              "      <td>47</td>\n",
              "      <td>13</td>\n",
              "      <td>-</td>\n",
              "      <td>8</td>\n",
              "      <td>3</td>\n",
              "      <td>1</td>\n",
              "      <td>اینجا یه پسر می‌بینم که دستش یه نقشه اس بعدش ن...</td>\n",
              "    </tr>\n",
              "    <tr>\n",
              "      <th>611151</th>\n",
              "      <td>65</td>\n",
              "      <td>13</td>\n",
              "      <td>-</td>\n",
              "      <td>8</td>\n",
              "      <td>3</td>\n",
              "      <td>1</td>\n",
              "      <td>اینجا یه دونه جاده می‌بینم اینجا زمین می‌بینم</td>\n",
              "    </tr>\n",
              "    <tr>\n",
              "      <th>611152</th>\n",
              "      <td>9</td>\n",
              "      <td>13</td>\n",
              "      <td>-</td>\n",
              "      <td>8</td>\n",
              "      <td>3</td>\n",
              "      <td>1</td>\n",
              "      <td>خالی</td>\n",
              "    </tr>\n",
              "    <tr>\n",
              "      <th>611153</th>\n",
              "      <td>103</td>\n",
              "      <td>13</td>\n",
              "      <td>-</td>\n",
              "      <td>8</td>\n",
              "      <td>3</td>\n",
              "      <td>1</td>\n",
              "      <td>این دختره داره می‌ره مدرسه سواد یاد بگیره این ...</td>\n",
              "    </tr>\n",
              "  </tbody>\n",
              "</table>\n",
              "<p>611154 rows × 7 columns</p>\n",
              "</div>"
            ],
            "text/plain": [
              "        page  lang  ... grade                                               text\n",
              "0         95     6  ...     1                                  مادر می‌بره مدرسه\n",
              "1         59    13  ...     1                       امین - مسجد - کفش - دمپایی -\n",
              "2         69    13  ...     1  یه ماشین داره می‌ره یه کلاغ روش آب داره می‌ره ...\n",
              "3         25    13  ...     1                     اومده بخورش قایم کرده سنگ درخت\n",
              "4         21    13  ...     1  دندان می‌خواد درست کنه اینجا درست کرده آب گوشت...\n",
              "...      ...   ...  ...   ...                                                ...\n",
              "611149    37    13  ...     1  اینجا یه درخت می‌بینم کفش دوز توشه کفش دوز دری...\n",
              "611150    47    13  ...     1  اینجا یه پسر می‌بینم که دستش یه نقشه اس بعدش ن...\n",
              "611151    65    13  ...     1      اینجا یه دونه جاده می‌بینم اینجا زمین می‌بینم\n",
              "611152     9    13  ...     1                                               خالی\n",
              "611153   103    13  ...     1  این دختره داره می‌ره مدرسه سواد یاد بگیره این ...\n",
              "\n",
              "[611154 rows x 7 columns]"
            ]
          },
          "metadata": {},
          "execution_count": 8
        }
      ]
    },
    {
      "cell_type": "markdown",
      "source": [
        "## Search for Similar Words"
      ],
      "metadata": {
        "id": "t0eBuFUl_i_F"
      }
    },
    {
      "cell_type": "code",
      "source": [
        "from ashena.utils import SimilarityAnalyzer\n",
        "# filtering the data\n",
        "filtered_df = main_df[main_df['state'] == 8]\n",
        "# constructing the analyzer\n",
        "analyzer = SimilarityAnalyzer(filtered_df)\n",
        "fullanalyzer = SimilarityAnalyzer(main_df)\n"
      ],
      "metadata": {
        "id": "3N6Wr1rXZB-S"
      },
      "execution_count": null,
      "outputs": []
    },
    {
      "cell_type": "code",
      "source": [
        "def find_and_compare_similar_words(myword):\n",
        "  section = analyzer.find_similar_words(myword, n=10)\n",
        "  full    = fullanalyzer.find_similar_words(myword , n=10)\n",
        "  print(\"section and full results for \", myword)\n",
        "  print(\"Section: \" , section)\n",
        "  print(\"Full:\" , full)"
      ],
      "metadata": {
        "id": "L9wxIKOtS1C_"
      },
      "execution_count": null,
      "outputs": []
    },
    {
      "cell_type": "code",
      "source": [
        "# searching for similar words\n",
        "find_and_compare_similar_words('تراکتور')\n",
        "find_and_compare_similar_words('خورشید')\n",
        "find_and_compare_similar_words('زبان')\n",
        "find_and_compare_similar_words('عاشورا')\n",
        "find_and_compare_similar_words('نوروز')"
      ],
      "metadata": {
        "colab": {
          "base_uri": "https://localhost:8080/"
        },
        "id": "MwbanBRj_swf",
        "outputId": "60fc9480-6a0e-4ff4-d454-7f3b2f882381"
      },
      "execution_count": null,
      "outputs": [
        {
          "output_type": "stream",
          "name": "stdout",
          "text": [
            "section and full results for  تراکتور\n",
            "Section:  ['تراکتور', 'ترکتور', 'تراکطور', 'تراکدور', 'تراکتول', 'تراکتوری', 'تراکتوره', 'تراکتورم', 'تراکتوا', 'تراکتو']\n",
            "Full: ['تراکتور', 'کراکتور', 'پراکتور', 'وتراکتور', 'نراکتور', 'طراکتور', 'راکتور', 'دراکتور', 'حراکتور', 'تیراکتور']\n",
            "section and full results for  خورشید\n",
            "Section:  ['خورشید', 'گوشید', 'پوشید', 'ورزید', 'نوشید', 'نخورید', 'فورشد', 'خوید', 'خوشی', 'خوریم']\n",
            "Full: ['خورشید', 'چورشید', 'رورشید', 'خوشید', 'خورید', 'خورشین', 'خورشیدی', 'خورشیده', 'خورشیدم', 'خورشی']\n",
            "section and full results for  زبان\n",
            "Section:  ['زبان', 'زوان', 'زنان', 'زمان', 'زبون', 'زبانی', 'زبال', 'زبا', 'زان', 'ربان']\n",
            "Full: ['زبان', 'یبان', 'کبان', 'چزبان', 'وزبان', 'هبان', 'نزبان', 'نبان', 'مبان', 'لبان']\n",
            "section and full results for  عاشورا\n",
            "Section:  ['عاشورا', 'عشورا', 'عاشوری', 'عاشورها', 'عاشوراه', 'عاشوراس', 'عاشور', 'عاشعرا', 'عاسورا', 'اشورا']\n",
            "Full: ['عاشورا', 'گاشورا', 'کاشورا', 'وعاشورا', 'هاشورا', 'ناشورا', 'ماشورا', 'غاشورا', 'علشورا', 'عشورا']\n",
            "section and full results for  نوروز\n",
            "Section:  ['نوروز', 'وروز', 'نیروز', 'نووز', 'نوروزی', 'نوروزه', 'نورو', 'نروز', 'یکروز', 'یروز']\n",
            "Full: ['نوروز', 'کوروز', 'ونوروز', 'وروز', 'هوروز', 'نیروز', 'نویوز', 'نویروز', 'نووز', 'نووروز']\n"
          ]
        }
      ]
    },
    {
      "cell_type": "code",
      "source": [
        "analyzer.find_similar_words('خورشید', n=10)"
      ],
      "metadata": {
        "colab": {
          "base_uri": "https://localhost:8080/"
        },
        "id": "zXYDRCrt_tUi",
        "outputId": "d9ce9bb1-8e42-4350-d8d9-936697181011"
      },
      "execution_count": null,
      "outputs": [
        {
          "output_type": "execute_result",
          "data": {
            "text/plain": [
              "['خورشید',\n",
              " 'گوشید',\n",
              " 'پوشید',\n",
              " 'ورزید',\n",
              " 'نوشید',\n",
              " 'نخورید',\n",
              " 'فورشد',\n",
              " 'خوید',\n",
              " 'خوشی',\n",
              " 'خوریم']"
            ]
          },
          "metadata": {},
          "execution_count": 11
        }
      ]
    },
    {
      "cell_type": "code",
      "source": [
        "#full text analyzer:\n",
        "fullanalyzer = SimilarityAnalyzer(main_df)\n"
      ],
      "metadata": {
        "id": "M-c6ICV_SCdS"
      },
      "execution_count": null,
      "outputs": []
    },
    {
      "cell_type": "code",
      "source": [
        "!pip install parsivar"
      ],
      "metadata": {
        "id": "Q6sZJnud_yt-"
      },
      "execution_count": null,
      "outputs": []
    },
    {
      "cell_type": "code",
      "source": [
        "from parsivar import POSTagger\n",
        "tmp_text = main_df['text'][611151]\n",
        "\n",
        "my_tagger = POSTagger(tagging_model=\"stanford\")\n",
        "text_tags = my_tagger.parse(my_tokenizer.tokenize_words(tmp_text))\n",
        "print(text_tags)"
      ],
      "metadata": {
        "colab": {
          "base_uri": "https://localhost:8080/"
        },
        "id": "L2cxX9BlQE9h",
        "outputId": "1d44cdaa-73cc-4bc2-a6eb-474f25e9fb97"
      },
      "execution_count": null,
      "outputs": [
        {
          "output_type": "stream",
          "name": "stdout",
          "text": [
            "[('اینجا', 'ADV'), ('یه', 'N'), ('دونه', 'N'), ('جاده', 'N'), ('می\\u200cبینم', 'V_PR'), ('اینجا', 'ADV'), ('زمین', 'N'), ('می\\u200cبینم', 'V_PR')]\n"
          ]
        }
      ]
    },
    {
      "cell_type": "code",
      "source": [
        "from parsivar import Tokenizer\n",
        "from parsivar import Normalizer\n",
        "\n",
        "tmp_text = main_df['text'][611151]\n",
        "print (tmp_text)\n",
        "my_normalizer = Normalizer()\n",
        "my_tokenizer = Tokenizer()\n",
        "sents = my_tokenizer.tokenize_sentences(my_normalizer.normalize(tmp_text))\n",
        "print(sents)\n"
      ],
      "metadata": {
        "colab": {
          "base_uri": "https://localhost:8080/"
        },
        "id": "VvyQjIW1OPSI",
        "outputId": "4a5aabd8-a657-4d1f-bfd3-de0575e3d0f8"
      },
      "execution_count": null,
      "outputs": [
        {
          "output_type": "stream",
          "name": "stdout",
          "text": [
            "اینجا یه دونه جاده می‌بینم اینجا زمین می‌بینم\n",
            "['اینجا یه دونه جاده می\\u200cبینم اینجا زمین می\\u200cبینم']\n"
          ]
        }
      ]
    }
  ]
}